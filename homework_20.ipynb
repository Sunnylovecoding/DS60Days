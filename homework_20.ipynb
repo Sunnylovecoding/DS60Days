{
 "cells": [
  {
   "cell_type": "code",
   "execution_count": null,
   "metadata": {},
   "outputs": [],
   "source": [
    "題目 : \n",
    "\n",
    "1.在速度較慢的時候，可以先從哪邊開始檢查？\n",
    "2.資料過大時應採取什麼方式讓記憶體占用量下降？"
   ]
  },
  {
   "cell_type": "code",
   "execution_count": null,
   "metadata": {},
   "outputs": [],
   "source": [
    "1.ans:檢查資料讀取的格式，是否使用了xls 或是csv格式，可置換成pkl擋可提升運算速度\n",
    "2.ans:欄位的型態降級有助於減少記憶體佔用空間,將浮點數型態 float64 改成 float32 可減少記憶體正用空間"
   ]
  }
 ],
 "metadata": {
  "kernelspec": {
   "display_name": "Python 3",
   "language": "python",
   "name": "python3"
  },
  "language_info": {
   "codemirror_mode": {
    "name": "ipython",
    "version": 3
   },
   "file_extension": ".py",
   "mimetype": "text/x-python",
   "name": "python",
   "nbconvert_exporter": "python",
   "pygments_lexer": "ipython3",
   "version": "3.8.5"
  }
 },
 "nbformat": 4,
 "nbformat_minor": 4
}
